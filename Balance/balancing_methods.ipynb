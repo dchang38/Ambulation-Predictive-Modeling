{
 "cells": [
  {
   "cell_type": "code",
   "execution_count": 1,
   "metadata": {},
   "outputs": [],
   "source": [
    "import numpy as np\n",
    "import pandas as pd\n",
    "import matplotlib.pyplot as py\n",
    "\n",
    "from sklearn.linear_model import LogisticRegression\n",
    "from sklearn.metrics import accuracy_score\n",
    "from sklearn.utils import resample\n",
    "from sklearn.ensemble import RandomForestClassifier\n",
    "from sklearn.model_selection import train_test_split\n",
    "from sklearn.metrics import roc_curve\n",
    "from sklearn.metrics import roc_auc_score\n",
    "from matplotlib import pyplot"
   ]
  },
  {
   "cell_type": "code",
   "execution_count": 2,
   "metadata": {},
   "outputs": [],
   "source": [
    "# Duplicate observations from the minority class\n",
    "def upsample(df, target):\n",
    "    print('Upsampling data...')\n",
    "    majority = df[df[target] == 1]\n",
    "    minority = df[df[target] == 0]\n",
    "    minority_upsampled = resample(minority, replace=True,  # sample with replacement\n",
    "                         n_samples=len(majority),  # to match majority class\n",
    "                         random_state=123)  # reproducible results\n",
    "    upsampled = pd.concat([majority, minority_upsampled])\n",
    "    return upsampled\n",
    "\n",
    "# Duplicate observations from the majority class\n",
    "def downsample(df, target):\n",
    "    print('Downsampling data...')\n",
    "    majority = df[df[target] == 1]\n",
    "    minority = df[df[target] == 0]\n",
    "    majority_downsampled = resample(majority, replace=False,  # sample without replacement\n",
    "                         n_samples=len(minority),  # to match minority class\n",
    "                         random_state=123)  # reproducible results\n",
    "    downsampled = pd.concat([majority_downsampled, minority])\n",
    "    return downsampled\n",
    "    \n",
    "def logistic_regression(df, target):\n",
    "    y = df[target]\n",
    "    x = df.drop([target], axis=1)\n",
    "    clf = LogisticRegression(solver='liblinear').fit(x, y)\n",
    "    pred_y = clf.predict(x)\n",
    " \n",
    "    print('Logistic Regression Accuracy: ', accuracy_score(y, pred_y) )\n",
    "    \n",
    "def random_forest(x_train, y_train, x_test, y_test):\n",
    "    # Train model\n",
    "    clf = RandomForestClassifier(n_estimators=100)\n",
    "    clf.fit(x_train, y_train)\n",
    " \n",
    "    # Predict on test set\n",
    "    pred_y = clf.predict(x_test)\n",
    "    print('Random Forest Accuracy: ', accuracy_score(y_test, pred_y) )"
   ]
  },
  {
   "cell_type": "code",
   "execution_count": 3,
   "metadata": {},
   "outputs": [
    {
     "name": "stdout",
     "output_type": "stream",
     "text": [
      "Going to Walk value count:\n",
      "1    10112\n",
      "0      723\n",
      "Name: Going_to_Walk, dtype: int64\n"
     ]
    }
   ],
   "source": [
    "target = 'Going_to_Walk'\n",
    "\n",
    "df = pd.read_csv(\"data_files/Patients_hourly_data.csv\")\n",
    "df = df.drop(['Date'], axis = 1) # get rid of date column\n",
    "y = df[target]\n",
    "x = df.drop([target], axis=1)\n",
    "print(\"Going to Walk value count:\")\n",
    "print( df[target].value_counts())"
   ]
  },
  {
   "cell_type": "code",
   "execution_count": 4,
   "metadata": {},
   "outputs": [
    {
     "name": "stdout",
     "output_type": "stream",
     "text": [
      "Upsampling data...\n",
      "Logistic Regression Accuracy:  0.6376582278481012\n",
      "Downsampling data...\n",
      "Logistic Regression Accuracy:  0.6210235131396957\n"
     ]
    }
   ],
   "source": [
    "df_upsampled = upsample(df, target)\n",
    "logistic_regression(df_upsampled, target)\n",
    "df_downsampled = downsample(df, target)\n",
    "logistic_regression(df_downsampled, target)"
   ]
  },
  {
   "cell_type": "code",
   "execution_count": 5,
   "metadata": {},
   "outputs": [
    {
     "name": "stdout",
     "output_type": "stream",
     "text": [
      "0.4956801937251607\n"
     ]
    },
    {
     "name": "stderr",
     "output_type": "stream",
     "text": [
      "C:\\Users\\chang\\Anaconda3\\lib\\site-packages\\sklearn\\linear_model\\logistic.py:947: ConvergenceWarning: lbfgs failed to converge. Increase the number of iterations.\n",
      "  \"of iterations.\", ConvergenceWarning)\n"
     ]
    }
   ],
   "source": [
    "def auc(df, x, y):\n",
    "    clf = LogisticRegression(solver='lbfgs').fit(x, y)\n",
    "    \n",
    "    # Predict class probabilities\n",
    "    prob_y = clf.predict_proba(x)\n",
    "    \n",
    "    # Keep only the positive class\n",
    "    prob_y = [p[1] for p in prob_y]\n",
    "    \n",
    "    print( roc_auc_score(y, prob_y) )\n",
    "\n",
    "auc(df, x, y)"
   ]
  },
  {
   "cell_type": "code",
   "execution_count": 6,
   "metadata": {},
   "outputs": [
    {
     "name": "stdout",
     "output_type": "stream",
     "text": [
      "Random Forest Accuracy:  0.9277145493694248\n"
     ]
    }
   ],
   "source": [
    "# Split dataset into training set and test set\n",
    "x_train, x_test, y_train, y_test = train_test_split(x, y, test_size=0.3) # 70% training and 30% test\n",
    "random_forest(x_train, y_train, x_test, y_test)"
   ]
  },
  {
   "cell_type": "code",
   "execution_count": 11,
   "metadata": {
    "scrolled": true
   },
   "outputs": [
    {
     "name": "stderr",
     "output_type": "stream",
     "text": [
      "C:\\Users\\chang\\Anaconda3\\lib\\site-packages\\sklearn\\linear_model\\logistic.py:947: ConvergenceWarning: lbfgs failed to converge. Increase the number of iterations.\n",
      "  \"of iterations.\", ConvergenceWarning)\n"
     ]
    },
    {
     "name": "stdout",
     "output_type": "stream",
     "text": [
      "No Skill: ROC AUC=0.500\n",
      "Logistic: ROC AUC=0.495\n"
     ]
    },
    {
     "data": {
      "image/png": "[encoded data removed]",
      "text/plain": [
       "<Figure size 432x288 with 1 Axes>"
      ]
     },
     "metadata": {
      "needs_background": "light"
     },
     "output_type": "display_data"
    }
   ],
   "source": [
    "# fit a model\n",
    "model = LogisticRegression(solver='lbfgs')\n",
    "model.fit(x_train, y_train)\n",
    "# generate a no skill prediction (majority class)\n",
    "ns_probs = [1 for _ in range(len(y_test))]\n",
    "# predict probabilities\n",
    "lr_probs = model.predict_proba(x_test)\n",
    "# keep probabilities for the positive outcome only\n",
    "lr_probs = lr_probs[:, 0]\n",
    "# calculate scores\n",
    "ns_auc = roc_auc_score(y_test, ns_probs)\n",
    "lr_auc = roc_auc_score(y_test, lr_probs)\n",
    "# summarize scores\n",
    "print('No Skill: ROC AUC=%.3f' % (ns_auc))\n",
    "print('Logistic: ROC AUC=%.3f' % (lr_auc))\n",
    "# calculate roc curves\n",
    "ns_fpr, ns_tpr, _ = roc_curve(y_test, ns_probs)\n",
    "lr_fpr, lr_tpr, _ = roc_curve(y_test, lr_probs)\n",
    "# plot the roc curve for the model\n",
    "pyplot.plot(ns_fpr, ns_tpr, linestyle='--', label='No Skill')\n",
    "pyplot.plot(lr_fpr, lr_tpr, marker='.', label='Logistic')\n",
    "# axis labels\n",
    "pyplot.xlabel('False Positive Rate')\n",
    "pyplot.ylabel('True Positive Rate')\n",
    "# show the legend\n",
    "pyplot.legend()\n",
    "# show the plot\n",
    "pyplot.show()"
   ]
  },
  {
   "cell_type": "code",
   "execution_count": null,
   "metadata": {},
   "outputs": [],
   "source": []
  }
 ],
 "metadata": {
  "kernelspec": {
   "display_name": "Python 3",
   "language": "python",
   "name": "python3"
  },
  "language_info": {
   "codemirror_mode": {
    "name": "ipython",
    "version": 3
   },
   "file_extension": ".py",
   "mimetype": "text/x-python",
   "name": "python",
   "nbconvert_exporter": "python",
   "pygments_lexer": "ipython3",
   "version": "3.7.3"
  }
 },
 "nbformat": 4,
 "nbformat_minor": 2
}
